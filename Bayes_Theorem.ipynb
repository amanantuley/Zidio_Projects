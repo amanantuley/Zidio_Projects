{
  "nbformat": 4,
  "nbformat_minor": 0,
  "metadata": {
    "colab": {
      "provenance": []
    },
    "kernelspec": {
      "name": "python3",
      "display_name": "Python 3"
    },
    "language_info": {
      "name": "python"
    }
  },
  "cells": [
    {
      "cell_type": "code",
      "execution_count": null,
      "metadata": {
        "colab": {
          "base_uri": "https://localhost:8080/"
        },
        "id": "5Vo03EOTmrGG",
        "outputId": "a13bfa59-7db3-4f3e-ef7d-d9859e0bc943"
      },
      "outputs": [
        {
          "output_type": "stream",
          "name": "stdout",
          "text": [
            "Probability that the patient has the disease given  positive test: 16.67%\n"
          ]
        }
      ],
      "source": [
        "#Given Probability\n",
        "P_H=0.01\n",
        "P_not_H = 1- P_H\n",
        "P_E_given_H=0.99\n",
        "P_E_given_not_H = 0.05\n",
        "\n",
        "#Marginal Probability\n",
        "P_E= (P_E_given_H * P_H) + (P_E_given_not_H * P_not_H)\n",
        "\n",
        "#Apply the Bayes Theorem\n",
        "P_H_given_E = (P_E_given_H * P_H)/P_E\n",
        "#Displaying the results\n",
        "print(f\"Probability that the patient has the disease given  positive test: {P_H_given_E * 100:.2f}%\")\n",
        "\n"
      ]
    }
  ]
}